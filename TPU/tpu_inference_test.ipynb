{
  "nbformat": 4,
  "nbformat_minor": 0,
  "metadata": {
    "colab": {
      "name": "tpu-inference-test.ipynb",
      "provenance": [],
      "authorship_tag": "ABX9TyPFdQIFQVbXpjf7S+JpT/Gh",
      "include_colab_link": true
    },
    "kernelspec": {
      "name": "python3",
      "display_name": "Python 3"
    },
    "language_info": {
      "name": "python"
    },
    "accelerator": "TPU"
  },
  "cells": [
    {
      "cell_type": "markdown",
      "metadata": {
        "id": "view-in-github",
        "colab_type": "text"
      },
      "source": [
        "<a href=\"https://colab.research.google.com/github/manchann/inference-experiments/blob/main/TPU/tpu_inference_test.ipynb\" target=\"_parent\"><img src=\"https://colab.research.google.com/assets/colab-badge.svg\" alt=\"Open In Colab\"/></a>"
      ]
    },
    {
      "cell_type": "code",
      "metadata": {
        "colab": {
          "base_uri": "https://localhost:8080/"
        },
        "id": "4ETVYobDULT2",
        "outputId": "7bc695b6-4068-432c-fdd0-ec1019474672"
      },
      "source": [
        "import os, re, time, json\n",
        "import PIL.Image, PIL.ImageFont, PIL.ImageDraw\n",
        "import numpy as np\n",
        "import tensorflow as tf\n",
        "from matplotlib import pyplot as plt\n",
        "AUTOTUNE = tf.data.AUTOTUNE\n",
        "print(\"Tensorflow version \" + tf.__version__)"
      ],
      "execution_count": null,
      "outputs": [
        {
          "output_type": "stream",
          "name": "stdout",
          "text": [
            "Tensorflow version 2.6.0\n"
          ]
        }
      ]
    },
    {
      "cell_type": "code",
      "metadata": {
        "id": "xlivGMyVUPlw"
      },
      "source": [
        "PROJECT = \"jg-project-328708\" #@param {type:\"string\"}\n",
        "BUCKET = \"gs://jg-tpubucket\"  #@param {type:\"string\", default:\"jddj\"}\n",
        "NEW_MODEL = True #@param {type:\"boolean\"}\n",
        "MODEL_NAME = \"resnet50\" #@param {type:\"string\"}\n",
        "MODEL_VERSION = \"v1\" #@param {type:\"string\"}\n",
        "\n",
        "assert PROJECT, 'For this part, you need a GCP project. Head to http://console.cloud.google.com/ and create one.'\n",
        "assert re.search(r'gs://.+', BUCKET), 'For this part, you need a GCS bucket. Head to http://console.cloud.google.com/storage and create one.'"
      ],
      "execution_count": null,
      "outputs": []
    },
    {
      "cell_type": "code",
      "metadata": {
        "colab": {
          "base_uri": "https://localhost:8080/"
        },
        "id": "d4I0Tn2QVT_g",
        "outputId": "a6d3ddb6-1ba9-48fd-e9eb-0285dc4656f6"
      },
      "source": [
        "# detect TPUs\n",
        "tpu = tf.distribute.cluster_resolver.TPUClusterResolver.connect() # TPU detection\n",
        "strategy = tf.distribute.TPUStrategy(tpu)\n",
        "print(\"Number of accelerators: \", strategy.num_replicas_in_sync)\n",
        "\n",
        "# Google TPU VM\n",
        "# cluster_resolver = tf.distribute.cluster_resolver.TPUClusterResolver(\n",
        "#     tpu=tpu_address)\n",
        "# tf.config.experimental_connect_to_host(cluster_resolver.master())\n",
        "# tf.tpu.experimental.initialize_tpu_system(cluster_resolver)\n",
        "# tpu_strategy = tf.distribute.experimental.TPUStrategy(cluster_resolver)"
      ],
      "execution_count": null,
      "outputs": [
        {
          "output_type": "stream",
          "name": "stdout",
          "text": [
            "INFO:tensorflow:Clearing out eager caches\n"
          ]
        },
        {
          "output_type": "stream",
          "name": "stderr",
          "text": [
            "INFO:tensorflow:Clearing out eager caches\n"
          ]
        },
        {
          "output_type": "stream",
          "name": "stdout",
          "text": [
            "INFO:tensorflow:Initializing the TPU system: grpc://10.50.156.226:8470\n"
          ]
        },
        {
          "output_type": "stream",
          "name": "stderr",
          "text": [
            "INFO:tensorflow:Initializing the TPU system: grpc://10.50.156.226:8470\n"
          ]
        },
        {
          "output_type": "stream",
          "name": "stdout",
          "text": [
            "INFO:tensorflow:Finished initializing TPU system.\n"
          ]
        },
        {
          "output_type": "stream",
          "name": "stderr",
          "text": [
            "INFO:tensorflow:Finished initializing TPU system.\n"
          ]
        },
        {
          "output_type": "stream",
          "name": "stdout",
          "text": [
            "INFO:tensorflow:Found TPU system:\n"
          ]
        },
        {
          "output_type": "stream",
          "name": "stderr",
          "text": [
            "INFO:tensorflow:Found TPU system:\n"
          ]
        },
        {
          "output_type": "stream",
          "name": "stdout",
          "text": [
            "INFO:tensorflow:*** Num TPU Cores: 8\n"
          ]
        },
        {
          "output_type": "stream",
          "name": "stderr",
          "text": [
            "INFO:tensorflow:*** Num TPU Cores: 8\n"
          ]
        },
        {
          "output_type": "stream",
          "name": "stdout",
          "text": [
            "INFO:tensorflow:*** Num TPU Workers: 1\n"
          ]
        },
        {
          "output_type": "stream",
          "name": "stderr",
          "text": [
            "INFO:tensorflow:*** Num TPU Workers: 1\n"
          ]
        },
        {
          "output_type": "stream",
          "name": "stdout",
          "text": [
            "INFO:tensorflow:*** Num TPU Cores Per Worker: 8\n"
          ]
        },
        {
          "output_type": "stream",
          "name": "stderr",
          "text": [
            "INFO:tensorflow:*** Num TPU Cores Per Worker: 8\n"
          ]
        },
        {
          "output_type": "stream",
          "name": "stdout",
          "text": [
            "INFO:tensorflow:*** Available Device: _DeviceAttributes(/job:localhost/replica:0/task:0/device:CPU:0, CPU, 0, 0)\n"
          ]
        },
        {
          "output_type": "stream",
          "name": "stderr",
          "text": [
            "INFO:tensorflow:*** Available Device: _DeviceAttributes(/job:localhost/replica:0/task:0/device:CPU:0, CPU, 0, 0)\n"
          ]
        },
        {
          "output_type": "stream",
          "name": "stdout",
          "text": [
            "INFO:tensorflow:*** Available Device: _DeviceAttributes(/job:worker/replica:0/task:0/device:CPU:0, CPU, 0, 0)\n"
          ]
        },
        {
          "output_type": "stream",
          "name": "stderr",
          "text": [
            "INFO:tensorflow:*** Available Device: _DeviceAttributes(/job:worker/replica:0/task:0/device:CPU:0, CPU, 0, 0)\n"
          ]
        },
        {
          "output_type": "stream",
          "name": "stdout",
          "text": [
            "INFO:tensorflow:*** Available Device: _DeviceAttributes(/job:worker/replica:0/task:0/device:TPU:0, TPU, 0, 0)\n"
          ]
        },
        {
          "output_type": "stream",
          "name": "stderr",
          "text": [
            "INFO:tensorflow:*** Available Device: _DeviceAttributes(/job:worker/replica:0/task:0/device:TPU:0, TPU, 0, 0)\n"
          ]
        },
        {
          "output_type": "stream",
          "name": "stdout",
          "text": [
            "INFO:tensorflow:*** Available Device: _DeviceAttributes(/job:worker/replica:0/task:0/device:TPU:1, TPU, 0, 0)\n"
          ]
        },
        {
          "output_type": "stream",
          "name": "stderr",
          "text": [
            "INFO:tensorflow:*** Available Device: _DeviceAttributes(/job:worker/replica:0/task:0/device:TPU:1, TPU, 0, 0)\n"
          ]
        },
        {
          "output_type": "stream",
          "name": "stdout",
          "text": [
            "INFO:tensorflow:*** Available Device: _DeviceAttributes(/job:worker/replica:0/task:0/device:TPU:2, TPU, 0, 0)\n"
          ]
        },
        {
          "output_type": "stream",
          "name": "stderr",
          "text": [
            "INFO:tensorflow:*** Available Device: _DeviceAttributes(/job:worker/replica:0/task:0/device:TPU:2, TPU, 0, 0)\n"
          ]
        },
        {
          "output_type": "stream",
          "name": "stdout",
          "text": [
            "INFO:tensorflow:*** Available Device: _DeviceAttributes(/job:worker/replica:0/task:0/device:TPU:3, TPU, 0, 0)\n"
          ]
        },
        {
          "output_type": "stream",
          "name": "stderr",
          "text": [
            "INFO:tensorflow:*** Available Device: _DeviceAttributes(/job:worker/replica:0/task:0/device:TPU:3, TPU, 0, 0)\n"
          ]
        },
        {
          "output_type": "stream",
          "name": "stdout",
          "text": [
            "INFO:tensorflow:*** Available Device: _DeviceAttributes(/job:worker/replica:0/task:0/device:TPU:4, TPU, 0, 0)\n"
          ]
        },
        {
          "output_type": "stream",
          "name": "stderr",
          "text": [
            "INFO:tensorflow:*** Available Device: _DeviceAttributes(/job:worker/replica:0/task:0/device:TPU:4, TPU, 0, 0)\n"
          ]
        },
        {
          "output_type": "stream",
          "name": "stdout",
          "text": [
            "INFO:tensorflow:*** Available Device: _DeviceAttributes(/job:worker/replica:0/task:0/device:TPU:5, TPU, 0, 0)\n"
          ]
        },
        {
          "output_type": "stream",
          "name": "stderr",
          "text": [
            "INFO:tensorflow:*** Available Device: _DeviceAttributes(/job:worker/replica:0/task:0/device:TPU:5, TPU, 0, 0)\n"
          ]
        },
        {
          "output_type": "stream",
          "name": "stdout",
          "text": [
            "INFO:tensorflow:*** Available Device: _DeviceAttributes(/job:worker/replica:0/task:0/device:TPU:6, TPU, 0, 0)\n"
          ]
        },
        {
          "output_type": "stream",
          "name": "stderr",
          "text": [
            "INFO:tensorflow:*** Available Device: _DeviceAttributes(/job:worker/replica:0/task:0/device:TPU:6, TPU, 0, 0)\n"
          ]
        },
        {
          "output_type": "stream",
          "name": "stdout",
          "text": [
            "INFO:tensorflow:*** Available Device: _DeviceAttributes(/job:worker/replica:0/task:0/device:TPU:7, TPU, 0, 0)\n"
          ]
        },
        {
          "output_type": "stream",
          "name": "stderr",
          "text": [
            "INFO:tensorflow:*** Available Device: _DeviceAttributes(/job:worker/replica:0/task:0/device:TPU:7, TPU, 0, 0)\n"
          ]
        },
        {
          "output_type": "stream",
          "name": "stdout",
          "text": [
            "INFO:tensorflow:*** Available Device: _DeviceAttributes(/job:worker/replica:0/task:0/device:TPU_SYSTEM:0, TPU_SYSTEM, 0, 0)\n"
          ]
        },
        {
          "output_type": "stream",
          "name": "stderr",
          "text": [
            "INFO:tensorflow:*** Available Device: _DeviceAttributes(/job:worker/replica:0/task:0/device:TPU_SYSTEM:0, TPU_SYSTEM, 0, 0)\n"
          ]
        },
        {
          "output_type": "stream",
          "name": "stdout",
          "text": [
            "INFO:tensorflow:*** Available Device: _DeviceAttributes(/job:worker/replica:0/task:0/device:XLA_CPU:0, XLA_CPU, 0, 0)\n"
          ]
        },
        {
          "output_type": "stream",
          "name": "stderr",
          "text": [
            "INFO:tensorflow:*** Available Device: _DeviceAttributes(/job:worker/replica:0/task:0/device:XLA_CPU:0, XLA_CPU, 0, 0)\n"
          ]
        },
        {
          "output_type": "stream",
          "name": "stdout",
          "text": [
            "Number of accelerators:  8\n"
          ]
        }
      ]
    },
    {
      "cell_type": "code",
      "metadata": {
        "id": "V4y8T4PrYYnf"
      },
      "source": [
        "def deserialize_image_record(record):\n",
        "    feature_map = {'image/encoded': tf.io.FixedLenFeature([], tf.string, ''),\n",
        "                  'image/class/label': tf.io.FixedLenFeature([1], tf.int64, -1),\n",
        "                  'image/class/text': tf.io.FixedLenFeature([], tf.string, '')}\n",
        "    obj = tf.io.parse_single_example(serialized=record, features=feature_map)\n",
        "    imgdata = obj['image/encoded']\n",
        "    label = tf.cast(obj['image/class/label'], tf.int32)   \n",
        "    label_text = tf.cast(obj['image/class/text'], tf.string)   \n",
        "    return imgdata, label, label_text\n",
        "\n",
        "def val_preprocessing(record):\n",
        "    imgdata, label, label_text = deserialize_image_record(record)\n",
        "    label -= 1\n",
        "    image = tf.io.decode_jpeg(imgdata, channels=3, \n",
        "                              fancy_upscaling=False, \n",
        "                              dct_method='INTEGER_FAST')\n",
        "\n",
        "    shape = tf.shape(image)\n",
        "    height = tf.cast(shape[0], tf.float32)\n",
        "    width = tf.cast(shape[1], tf.float32)\n",
        "    side = tf.cast(tf.convert_to_tensor(256, dtype=tf.int32), tf.float32)\n",
        "\n",
        "    scale = tf.cond(tf.greater(height, width),\n",
        "                  lambda: side / width,\n",
        "                  lambda: side / height)\n",
        "    \n",
        "    new_height = tf.cast(tf.math.rint(height * scale), tf.int32)\n",
        "    new_width = tf.cast(tf.math.rint(width * scale), tf.int32)\n",
        "    \n",
        "    image = tf.image.resize(image, [new_height, new_width], method='bicubic')\n",
        "    image = tf.image.resize_with_crop_or_pad(image, 224, 224)\n",
        "    \n",
        "    image = models[model_type].preprocess_input(image)\n",
        "    \n",
        "    return image, label, label_text\n",
        "\n",
        "def get_dataset(batch_size, use_cache=False):\n",
        "    data_dir = '/home/ubuntu/datasets/images-1000/*'\n",
        "    files = tf.io.gfile.glob(os.path.join(data_dir))\n",
        "    dataset = tf.data.TFRecordDataset(files)\n",
        "    \n",
        "    dataset = dataset.map(map_func=val_preprocessing, num_parallel_calls=tf.data.experimental.AUTOTUNE)\n",
        "    dataset = dataset.batch(batch_size=batch_size)\n",
        "    dataset = dataset.prefetch(buffer_size=tf.data.experimental.AUTOTUNE)\n",
        "    dataset = dataset.repeat(count=1)\n",
        "    \n",
        "    if use_cache:\n",
        "        shutil.rmtree('tfdatacache', ignore_errors=True)\n",
        "        os.mkdir('tfdatacache')\n",
        "        dataset = dataset.cache(f'./tfdatacache/imagenet_val')\n",
        "    \n",
        "    return dataset\n"
      ],
      "execution_count": null,
      "outputs": []
    },
    {
      "cell_type": "code",
      "metadata": {
        "id": "oTFdltnBfk4d"
      },
      "source": [
        "def tpu_inference(tpu_saved_model_name, batch_size):\n",
        "\n",
        "    model_inf1 = tf.contrib.predictor.from_saved_model(neuron_saved_model_name)\n",
        "\n",
        "    first_iter_time = 0\n",
        "    iter_times = []\n",
        "    pred_labels = []\n",
        "    actual_labels = []\n",
        "    display_threshold = 0\n",
        "    warm_up = 10\n",
        "\n",
        "    ds = get_dataset(user_batch_size, use_cache)\n",
        "\n",
        "    ds_iter = ds.make_initializable_iterator()\n",
        "    ds_next = ds_iter.get_next()\n",
        "    ds_init_op = ds_iter.initializer\n",
        "\n",
        "    with tf.Session() as sess:\n",
        "        try:\n",
        "            sess.run(ds_init_op)\n",
        "            counter = 0\n",
        "            \n",
        "            total_datas = 1000\n",
        "            display_every = 100\n",
        "            display_threshold = display_every\n",
        "            \n",
        "            ipname = list(model_inf1.feed_tensors.keys())[0]\n",
        "            resname = list(model_inf1.fetch_tensors.keys())[0]\n",
        "            \n",
        "            walltime_start = time.time()\n",
        "            warmup_time = []\n",
        "            extend_time = []\n",
        "            while True:\n",
        "                sess_start = time.time()\n",
        "                (validation_ds,batch_labels,_) = sess.run(ds_next)\n",
        "                \n",
        "                model_feed_dict={ipname: validation_ds}\n",
        "                start_time =time.time()\n",
        "                inf1_results = model.predict(model_feed_dict);\n",
        "                if counter == 0:\n",
        "                    first_iter_time = time.time() - start_time\n",
        "                else:\n",
        "                    iter_times.append(time.time() - start_time)\n",
        "                \n",
        "                actual_labels.extend(label for label_list in batch_labels for label in label_list)\n",
        "                pred_labels.extend(list(np.argmax(inf1_results[resname], axis=1)))\n",
        "            \n",
        "                counter+=1\n",
        "                break\n",
        "        except tf.errors.OutOfRangeError:\n",
        "            pass\n",
        "    print(actual_labels)\n",
        "    print(pred_labels)\n",
        "    acc_inf1 = np.sum(np.array(actual_labels) == np.array(pred_labels))/len(actual_labels)\n",
        "    iter_times = np.array(iter_times)\n",
        "    \n",
        "    results = pd.DataFrame(columns = [f'tpu_{batch_size}'])\n",
        "    results.loc['batch_size']         = [batch_size]\n",
        "    results.loc['accuracy']                = [acc_inf1]\n",
        "    results.loc['first_prediction_time']   = [first_iter_time]\n",
        "    results.loc['average_prediction_time'] = [np.mean(iter_times)]\n",
        "    results.loc['wall_time']               = [time.time() - walltime_start]\n",
        "    display(results.T)\n",
        "\n",
        "    return results, iter_times"
      ],
      "execution_count": null,
      "outputs": []
    }
  ]
}